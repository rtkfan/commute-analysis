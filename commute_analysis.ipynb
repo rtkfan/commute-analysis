{
 "cells": [
  {
   "cell_type": "code",
   "execution_count": 1,
   "metadata": {},
   "outputs": [],
   "source": [
    "# import dependencies\n",
    "import pandas as pd;\n",
    "from geopy import distance;\n",
    "from ast import literal_eval;\n",
    "from dateutil import parser;\n",
    "from datetime import timedelta;\n",
    "import matplotlib;"
   ]
  },
  {
   "cell_type": "code",
   "execution_count": 2,
   "metadata": {},
   "outputs": [],
   "source": [
    "# relevant constants\n",
    "from secrets import HOME_LATLNG, WORK_LATLNG\n",
    "\n",
    "COMMUTE_START_THRESHOLD = 250 # distance between start and home/work under which to count as commute\n",
    "COMMUTE_END_THRESHOLD = 100 # distance between end and work/home under which to count as commute"
   ]
  },
  {
   "cell_type": "code",
   "execution_count": 3,
   "metadata": {},
   "outputs": [],
   "source": [
    "# read the particular CSV\n",
    "df = pd.read_csv('./strava_25261767_1581740508.csv')"
   ]
  },
  {
   "cell_type": "code",
   "execution_count": 4,
   "metadata": {},
   "outputs": [
    {
     "name": "stdout",
     "output_type": "stream",
     "text": [
      "<class 'pandas.core.frame.DataFrame'>\n",
      "RangeIndex: 200 entries, 0 to 199\n",
      "Data columns (total 8 columns):\n",
      " #   Column            Non-Null Count  Dtype  \n",
      "---  ------            --------------  -----  \n",
      " 0   commute           200 non-null    bool   \n",
      " 1   distance          200 non-null    float64\n",
      " 2   elapsed_time      200 non-null    int64  \n",
      " 3   end_latlng        200 non-null    object \n",
      " 4   id                200 non-null    int64  \n",
      " 5   moving_time       200 non-null    int64  \n",
      " 6   start_date_local  200 non-null    object \n",
      " 7   start_latlng      200 non-null    object \n",
      "dtypes: bool(1), float64(1), int64(3), object(3)\n",
      "memory usage: 11.3+ KB\n"
     ]
    }
   ],
   "source": [
    "df.info()"
   ]
  },
  {
   "cell_type": "code",
   "execution_count": 5,
   "metadata": {},
   "outputs": [],
   "source": [
    "# convert latlong literals into lists, then tuples\n",
    "df['end_latlng'] = df['end_latlng'].apply(literal_eval)\n",
    "df['start_latlng'] = df['start_latlng'].apply(literal_eval)\n",
    "df['end_latlng'] = df['end_latlng'].apply(tuple)\n",
    "df['start_latlng'] = df['start_latlng'].apply(tuple)\n",
    "\n",
    "# convert start date (it's actually local, not UTC even though the\n",
    "# string says Z)\n",
    "\n",
    "df['start_date_local'] = df['start_date_local'].apply(parser.parse)\n",
    "df['start_date_local'] = df['start_date_local'].apply(lambda x: x.replace(tzinfo=None))"
   ]
  },
  {
   "cell_type": "code",
   "execution_count": 6,
   "metadata": {},
   "outputs": [],
   "source": [
    "# calculate distance from start and end points to home/work\n",
    "\n",
    "df['dist_start_home'] = df['start_latlng'].apply(lambda x:distance.distance(x,HOME_LATLNG).m)\n",
    "df['dist_start_work'] = df['start_latlng'].apply(lambda x:distance.distance(x,WORK_LATLNG).m)\n",
    "df['dist_end_home'] = df['end_latlng'].apply(lambda x:distance.distance(x,HOME_LATLNG).m)\n",
    "df['dist_end_work'] = df['end_latlng'].apply(lambda x:distance.distance(x,WORK_LATLNG).m)"
   ]
  },
  {
   "cell_type": "code",
   "execution_count": 7,
   "metadata": {},
   "outputs": [],
   "source": [
    "# calculate end time from start time\n",
    "df['end_date_local'] = df['start_date_local']+df['elapsed_time'].apply(lambda x: timedelta(0,x))"
   ]
  },
  {
   "cell_type": "code",
   "execution_count": 8,
   "metadata": {},
   "outputs": [
    {
     "name": "stdout",
     "output_type": "stream",
     "text": [
      "67 commutes in (to office)\n",
      "60 commutes out (from office)\n",
      "0 trips tagged as both (SHOULD BE 0)\n",
      "73 trips tagged as neither\n",
      "200 trips tagged ( checksum: 200 )\n"
     ]
    }
   ],
   "source": [
    "# apply distance thresholding to find commutes in and out\n",
    "df['is_commute_in'] = (df['dist_start_home'] <= COMMUTE_START_THRESHOLD) & \\\n",
    "                      (df['dist_end_work'] <= COMMUTE_END_THRESHOLD)\n",
    "\n",
    "df['is_commute_out'] = (df['dist_start_work'] <= COMMUTE_START_THRESHOLD) & \\\n",
    "                      (df['dist_end_home'] <= COMMUTE_END_THRESHOLD)\n",
    "\n",
    "num_commutes_in = df[(df['is_commute_in'])].shape[0]\n",
    "num_commutes_out = df[(df['is_commute_out'])].shape[0]\n",
    "num_tag_errors = df[(df['is_commute_in']) & (df['is_commute_out'])].shape[0]\n",
    "num_not_commutes = df[(~df['is_commute_in']) & (~df['is_commute_out'])].shape[0]\n",
    "\n",
    "# sense check the data\n",
    "print(num_commutes_in,'commutes in (to office)')\n",
    "print(num_commutes_out,'commutes out (from office)')\n",
    "print(num_tag_errors,'trips tagged as both (SHOULD BE 0)')\n",
    "print(num_not_commutes,'trips tagged as neither')\n",
    "print(num_commutes_in+num_commutes_out+num_not_commutes,\n",
    "      'trips tagged ( checksum:', df.shape[0],')')"
   ]
  },
  {
   "cell_type": "code",
   "execution_count": 9,
   "metadata": {},
   "outputs": [],
   "source": [
    "# slice and reshape raw data into separate commutes in/out; only take columns needed for analysis\n",
    "all_commutes = df[df['is_commute_in'] | df['is_commute_out']]"
   ]
  },
  {
   "cell_type": "code",
   "execution_count": null,
   "metadata": {},
   "outputs": [],
   "source": []
  }
 ],
 "metadata": {
  "kernelspec": {
   "display_name": "Python 3",
   "language": "python",
   "name": "python3"
  },
  "language_info": {
   "codemirror_mode": {
    "name": "ipython",
    "version": 3
   },
   "file_extension": ".py",
   "mimetype": "text/x-python",
   "name": "python",
   "nbconvert_exporter": "python",
   "pygments_lexer": "ipython3",
   "version": "3.8.1"
  }
 },
 "nbformat": 4,
 "nbformat_minor": 4
}
